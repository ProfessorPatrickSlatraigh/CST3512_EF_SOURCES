{
  "nbformat": 4,
  "nbformat_minor": 0,
  "metadata": {
    "colab": {
      "name": "00_Revision_Regular_Exp_F21.ipynb",
      "provenance": [],
      "collapsed_sections": [],
      "include_colab_link": true
    },
    "kernelspec": {
      "name": "python3",
      "display_name": "Python 3"
    }
  },
  "cells": [
    {
      "cell_type": "markdown",
      "metadata": {
        "id": "view-in-github",
        "colab_type": "text"
      },
      "source": [
        "<a href=\"https://colab.research.google.com/github/ProfessorPatrickSlatraigh/CST3512_EF_SOURCES/blob/main/00_Revision_Regular_Exp_F21.ipynb\" target=\"_parent\"><img src=\"https://colab.research.google.com/assets/colab-badge.svg\" alt=\"Open In Colab\"/></a>"
      ]
    },
    {
      "cell_type": "code",
      "metadata": {
        "id": "U3aBFzbMSUjG"
      },
      "source": [
        ""
      ],
      "execution_count": null,
      "outputs": []
    },
    {
      "cell_type": "markdown",
      "metadata": {
        "id": "9lquURrWUDWI"
      },
      "source": [
        "# [Speech and Language Processing by Jurafsky, Martin](https://web.stanford.edu/~jurafsky/slp3/)\n",
        "## [Chapter 2 (regular expressions)](https://web.stanford.edu/~jurafsky/slp3/2.pdf)\n",
        "\n",
        "## Read till Section 2.2 Words\n"
      ]
    },
    {
      "cell_type": "markdown",
      "metadata": {
        "id": "E1uMR4skWFSP"
      },
      "source": [
        "search object\n",
        "\n",
        "\n",
        "`<_sre.SRE_Match object; span=(start_character, end_character), match= matched_substring>`"
      ]
    },
    {
      "cell_type": "code",
      "metadata": {
        "id": "bE9VvujJT85i"
      },
      "source": [
        "import re"
      ],
      "execution_count": null,
      "outputs": []
    },
    {
      "cell_type": "markdown",
      "source": [
        "In the following code cells uncomment the `text` varaible one at a time to see the result of regular expression application. \n"
      ],
      "metadata": {
        "id": "tbSKKtNoN290"
      }
    },
    {
      "cell_type": "markdown",
      "metadata": {
        "id": "Y0lFYHwdUk_X"
      },
      "source": [
        "### Figure 2.1"
      ]
    },
    {
      "cell_type": "code",
      "metadata": {
        "id": "pN3ZN6FYUR6f"
      },
      "source": [
        "text = 'interesting links to woodchucks and lemurs'\n",
        "\n",
        "# try to reassign the text variable, below are several options. Can you explain the result? \n",
        "#text = 'interesting links to Woodchucks and lemurs'\n",
        "#text = 'interesting links to woodchuckspucks and lemurs'\n",
        "\n",
        "re.search(r'woodchucks', text)"
      ],
      "execution_count": null,
      "outputs": []
    },
    {
      "cell_type": "code",
      "metadata": {
        "id": "1MzkCASo0GRi"
      },
      "source": [
        "'woodchucks' in text"
      ],
      "execution_count": null,
      "outputs": []
    },
    {
      "cell_type": "code",
      "metadata": {
        "id": "d1VFi0EDym2R"
      },
      "source": [
        "text.find('woodchucks')"
      ],
      "execution_count": null,
      "outputs": []
    },
    {
      "cell_type": "code",
      "metadata": {
        "id": "jFJcZyuDUngX"
      },
      "source": [
        "# as in Figure 2.1, only the first instance of 'a' is picked up with the .search() function\n",
        "text = \"Mary Ann stopped by Mona's\"\n",
        "\n",
        "# try to reassign the text variable, below are several options. Can you explain the result? \n",
        "#text = \"Monique Ann stopped by Mary's\"\n",
        "#text = \"Mindy Ann stopped by Monique's\"\n",
        "\n",
        "\n",
        "re.search(r'a', text)"
      ],
      "execution_count": null,
      "outputs": []
    },
    {
      "cell_type": "markdown",
      "metadata": {
        "id": "l0loxcoqWlv4"
      },
      "source": [
        "### Figure 2.2"
      ]
    },
    {
      "cell_type": "code",
      "metadata": {
        "id": "gy0Ni_F8WpRZ"
      },
      "source": [
        "# Woodchuck or woodchuck match\n",
        "text = 'woodchucks'\n",
        "#text = 'interesting links to Woodchucks and lemurs'\n",
        "\n",
        "re.search(r'[Ww]oodchucks', text)"
      ],
      "execution_count": null,
      "outputs": []
    },
    {
      "cell_type": "code",
      "metadata": {
        "id": "IC2ewLvRW2nH"
      },
      "source": [
        "# 'a', 'b', or 'c' match\n",
        "text = 'In uomini, in soldcati'\n",
        "re.search(r'[abc]', text)"
      ],
      "execution_count": null,
      "outputs": []
    },
    {
      "cell_type": "code",
      "metadata": {
        "id": "TDu8_1S0Zk7v"
      },
      "source": [
        "# any digit match\n",
        "text = \"plenty of 7 to 5\"\n",
        "#text = 'In uomini, in soldcati'\n",
        "re.search(r'\\d',text)"
      ],
      "execution_count": null,
      "outputs": []
    },
    {
      "cell_type": "markdown",
      "metadata": {
        "id": "EHQJVeuGaDm5"
      },
      "source": [
        "### Figure 2.3"
      ]
    },
    {
      "cell_type": "code",
      "metadata": {
        "id": "jky2JqxZaDm6"
      },
      "source": [
        "# an upper case match\n",
        "text = \"we should call it 'Drenched Blossoms'\"\n",
        "\n",
        "# try to reassign the text variable, below are several options. Can you explain the result? \n",
        "#text = \"We should call it 'drenched blossoms'\"\n",
        "#text = \"We should call it 'Drenched Blossoms'\"\n",
        "\n",
        "re.search(r'[A-Z]', text)"
      ],
      "execution_count": null,
      "outputs": []
    },
    {
      "cell_type": "code",
      "metadata": {
        "id": "Nt7sJKewaDm9"
      },
      "source": [
        "# an lower case match\n",
        "text = \"my beans were impatient to be hoed!\"\n",
        "\n",
        "# try to reassign the text variable, below are several options. Can you explain the result? \n",
        "#text = \"My beans were impatient to be hoed!\"\n",
        "\n",
        "re.search(r'[a-z]', text)"
      ],
      "execution_count": null,
      "outputs": []
    },
    {
      "cell_type": "code",
      "metadata": {
        "id": "WZpbhzVfaDm_"
      },
      "source": [
        "# a single digit match\n",
        "text = \"plenty of 7 to 5\"\n",
        "\n",
        "# try to reassign the text variable, below are several options. Can you explain the result? \n",
        "#text = \"plenty of seven to 5\"\n",
        "\n",
        "re.search(r'\\d',text)"
      ],
      "execution_count": null,
      "outputs": []
    },
    {
      "cell_type": "markdown",
      "metadata": {
        "id": "Nq1johzQbBAf"
      },
      "source": [
        "### Figure 2.4"
      ]
    },
    {
      "cell_type": "code",
      "metadata": {
        "id": "VWr84m0QbBAi"
      },
      "source": [
        "# not an upper case letter\n",
        "text = \"Oyfn pripetchik\"\n",
        "\n",
        "# try to reassign the text variable, below are several options. Can you explain the result? \n",
        "#text = \"O.F. pripetchik\"\n",
        "#text = \"OYFN pripetchik\"\n",
        "#text = \"OYFNpripetchik\"\n",
        "\n",
        "re.search(r'[^A-Z]', text)"
      ],
      "execution_count": null,
      "outputs": []
    },
    {
      "cell_type": "code",
      "metadata": {
        "id": "FzsZR2qpbBAv"
      },
      "source": [
        "# neither ‘S’ nor ‘s’ \n",
        "text = \"I have no exquisite reason for't\"\n",
        "\n",
        "# try to reassign the text variable, below are several options. Can you explain the result? \n",
        "#text = \"Since I have no exquisite reason for't\"\n",
        "\n",
        "re.search(r'[^Ss]', text)"
      ],
      "execution_count": null,
      "outputs": []
    },
    {
      "cell_type": "code",
      "metadata": {
        "id": "I7JxVDaxbBA0"
      },
      "source": [
        "# not a period '.'\n",
        "text = \"our resident Djinn\"\n",
        "\n",
        "# try to reassign the text variable, below are several options. Can you explain the result? \n",
        "#text = \".our resident Djinn\"\n",
        "\n",
        "re.search(r'[^.]',text)"
      ],
      "execution_count": null,
      "outputs": []
    },
    {
      "cell_type": "code",
      "metadata": {
        "id": "cBH-IBxEcYco"
      },
      "source": [
        "# VERY IMPORTANT: check the placement of '^' within the square brackets\n",
        "# either ‘e’ or ‘^’ \n",
        "\n",
        "text = \"look up \\ ^ now\"\n",
        "\n",
        "# try to reassign the text variable, below are several options. Can you explain the result? \n",
        "#text = \"check up ^ now\"\n",
        "\n",
        "re.search(r'[e^]',text)"
      ],
      "execution_count": null,
      "outputs": []
    },
    {
      "cell_type": "code",
      "metadata": {
        "id": "YirV_RINc4Tp"
      },
      "source": [
        "# the pattern a^b \n",
        "\n",
        "text = \"look up a^b now\"\n",
        "\n",
        "\n",
        "re.search(r'a\\^b',text)\n",
        "\n",
        "# uncomment the below expression and think why it does not work. \n",
        "#re.search(r'a^b',text)"
      ],
      "execution_count": null,
      "outputs": []
    },
    {
      "cell_type": "markdown",
      "metadata": {
        "id": "9Y0HdgAydbw1"
      },
      "source": [
        "### Figure 2.5"
      ]
    },
    {
      "cell_type": "code",
      "metadata": {
        "id": "QEsDkOFhdbw2"
      },
      "source": [
        "# woodchuck or woodchucks match\n",
        "text = \"woodchuck\"\n",
        "\n",
        "# try to reassign the text variable, below are several options. Can you explain the result? \n",
        "#text = \"woodchucks\"\n",
        "#text = \"woodchucks and others\"\n",
        "\n",
        "re.search(r'woodchucks?', text)"
      ],
      "execution_count": null,
      "outputs": []
    },
    {
      "cell_type": "code",
      "metadata": {
        "id": "GIpNindSdbw7"
      },
      "source": [
        "# color or colour match\n",
        "text = \"color\"\n",
        "\n",
        "# try to reassign the text variable, below are several options. Can you explain the result? \n",
        "#text = \"colour\"\n",
        "#text = \"colors\"\n",
        "\n",
        "re.search(r'colou?r', text)"
      ],
      "execution_count": null,
      "outputs": []
    },
    {
      "cell_type": "markdown",
      "metadata": {
        "id": "9UymX5I0eKEY"
      },
      "source": [
        "### Figure 2.6"
      ]
    },
    {
      "cell_type": "code",
      "metadata": {
        "id": "KK518Ng2dbw_"
      },
      "source": [
        "# any character between beg and n match\n",
        "text = \"begin\"\n",
        "\n",
        "# try to reassign the text variable, below are several options. Can you explain the result? \n",
        "#text = \"beg'n\"\n",
        "#text = \"began\"\n",
        "#text = \"begun\"\n",
        "\n",
        "re.search(r'beg.n',text)"
      ],
      "execution_count": null,
      "outputs": []
    },
    {
      "cell_type": "markdown",
      "metadata": {
        "id": "N5YAPegQefrf"
      },
      "source": [
        "## A Simple Example"
      ]
    },
    {
      "cell_type": "markdown",
      "metadata": {
        "id": "3TATh_9ReruF"
      },
      "source": [
        "We try to match the English article *the*"
      ]
    },
    {
      "cell_type": "code",
      "metadata": {
        "id": "wnXWan-OemMd"
      },
      "source": [
        "# Why the below reg ex does not capture all 'the' cases\n",
        "\n",
        "text = \"We try to match English article the.\"\n",
        "\n",
        "# try to reassign the text variable, below are several options. Can you explain the result? \n",
        "#text = \"theoretical linguistics\"\n",
        "#text = \"other examples\"\n",
        "#text = \"We try to match English article The.\"\n",
        "#text = \"The best exampe.\"\n",
        "\n",
        "re.search(r'the',text)"
      ],
      "execution_count": null,
      "outputs": []
    },
    {
      "cell_type": "code",
      "metadata": {
        "id": "Dzp8tJ23HnTh"
      },
      "source": [
        "# Why the below reg ex does not capture all 'the' cases\n",
        "\n",
        "text = \"We try to match English article the.\"\n",
        "\n",
        "# try to reassign the text variable, below are several options. Can you explain the result? \n",
        "#text = \"theoretical linguistics\"\n",
        "#text = \"other examples\"\n",
        "#text = \"We try to match English article The.\"\n",
        "#text = \"The best exampe.\"\n",
        "\n",
        "re.search(r'[tT]he',text)"
      ],
      "execution_count": null,
      "outputs": []
    },
    {
      "cell_type": "code",
      "metadata": {
        "id": "hkU8AQicLH3r"
      },
      "source": [
        "# Why the below reg ex does not capture all 'the' cases\n",
        "\n",
        "text = \"We try to match English article the.\"\n",
        "\n",
        "# try to reassign the text variable, below are several options. Can you explain the result? \n",
        "#text = \"theoretical linguistics\"\n",
        "#text = \"other examples\"\n",
        "#text = \"We try to match English article The.\"\n",
        "#text = \"The best exampe.\"\n",
        "\n",
        "\n",
        "re.search(r'\\b[tT]he\\b',text)"
      ],
      "execution_count": null,
      "outputs": []
    },
    {
      "cell_type": "code",
      "metadata": {
        "id": "xUfzrVl0KTei"
      },
      "source": [
        "# Why the below reg ex does not capture all 'the' cases\n",
        "\n",
        "text = \"We try to match English article the.\"\n",
        "\n",
        "# try to reassign the text variable, below are several options. Can you explain the result? \n",
        "#text = \"theoretical linguistics\"\n",
        "#text = \"other examples\"\n",
        "#text = \"We try to match English article The.\"\n",
        "#text = \"The best exampe.\"\n",
        "#text = \"Here is the25 example.\"\n",
        "#text = \"_the25 example.\"\n",
        "#text = \"the25 example.\"\n",
        "\n",
        "# in the below regular expression\n",
        "# for [Tt]he to be matched, it should either \n",
        "# be preceded by a character that is not a letter\n",
        "\n",
        "re.search(r'[^a-zA-Z][tT]he[^a-zA-Z]',text)"
      ],
      "execution_count": null,
      "outputs": []
    },
    {
      "cell_type": "code",
      "metadata": {
        "id": "_Jw6_3T-LuU6"
      },
      "source": [
        "text = \"We try to match English article the.\"\n",
        "\n",
        "# try to reassign the text variable, below are several options. Can you explain the result? \n",
        "#text = \"theoretical linguistics\"\n",
        "#text = \"other examples\"\n",
        "#text = \"We try to match English article The.\"\n",
        "#text = \"The best exampe.\"\n",
        "#text = \"Here is the25 example.\"\n",
        "#text = \"_the25 example.\"\n",
        "#text = \"the25 example.\"\n",
        "\n",
        "\n",
        "# | means OR\n",
        "# (^|[^a-zA-Z]) can be treated as a boolean expression:\n",
        "# for [Tt]he to be matched, it should either be in the beginning of the string (^)\n",
        "# or it should be preceded by a character that is not a letter\n",
        "\n",
        "re.search(r'(^|[^a-zA-Z])[tT]he([^a-zA-Z]|$)',text)"
      ],
      "execution_count": null,
      "outputs": []
    },
    {
      "cell_type": "markdown",
      "metadata": {
        "id": "GSEGdutmNNLh"
      },
      "source": [
        "## A More Complex Example"
      ]
    },
    {
      "cell_type": "code",
      "metadata": {
        "id": "wlcw6zMfNRt-"
      },
      "source": [
        "# reg ex for prices\n",
        "\n",
        "text = \"any machine with at least 6 GHz and 500 GB of disk space for less than $1000\"\n",
        "\n",
        "# try to reassign the text variable, below are several options. Can you explain the result? \n",
        "#text = \"any machine with at least 6 GHz and 500 GB of disk space for less than $1000.99.\"\n",
        "\n",
        "re.search(r'\\$[0-9]+',text)"
      ],
      "execution_count": null,
      "outputs": []
    },
    {
      "cell_type": "code",
      "metadata": {
        "id": "sw0CP9ZhN_KQ"
      },
      "source": [
        "# reg ex for prices\n",
        "\n",
        "text = \"any machine with at least 6 GHz and 500 GB of disk space for less than $1000\"\n",
        "\n",
        "# try to reassign the text variable, below are several options. Can you explain the result? \n",
        "#text = \"any machine with at least 6 GHz and 500 GB of disk space for less than $1000.99.\"\n",
        "\n",
        "re.search(r'\\$[0-9]+\\.[0-9][0-9]',text)"
      ],
      "execution_count": null,
      "outputs": []
    },
    {
      "cell_type": "code",
      "metadata": {
        "id": "lbkES1HMOLDu"
      },
      "source": [
        "# reg ex for prices\n",
        "\n",
        "text = \"any machine with at least 6 GHz and 500 GB of disk space for less than $1000\"\n",
        "\n",
        "# try to reassign the text variable, below are several options. Can you explain the result? \n",
        "#text = \"any machine with at least 6 GHz and 500 GB of disk space for less than $1000.99.\"\n",
        "#text = \" ^$1000.99 is a great price.\"\n",
        "#text = \"boo$1000.99 is a great price.\"\n",
        "\n",
        "re.search(r'\\$[0-9]+(\\.[0-9][0-9])?',text) # my rags"
      ],
      "execution_count": null,
      "outputs": []
    },
    {
      "cell_type": "code",
      "metadata": {
        "id": "EG8gTpKFPLKq"
      },
      "source": [
        "# reg ex for prices\n",
        "\n",
        "text = \"any machine with at least 6 GHz and 500 GB of disk space for less than $1000\"\n",
        "\n",
        "# try to reassign the text variable, below are several options. Can you explain the result? \n",
        "#text = \"any machine with at least 6 GHz and 500 GB of disk space for less than $1000.99.\"\n",
        "#text = \"$1000.99 is a great price.\"\n",
        "#text = \"boo$1000.99 is a great price.\"\n",
        "#text = \"-$1000.99 is a great price.\"\n",
        "#text = \"$12345678.99 is a great price.\"\n",
        "#text = \"$12.99 is a great price.\"\n",
        "#text = \"$12345.99 is a great price.\"\n",
        "\n",
        "re.search(r'(^|\\W)\\$[0-9]+(\\.[0-9][0-9])?',text)"
      ],
      "execution_count": null,
      "outputs": []
    },
    {
      "cell_type": "code",
      "metadata": {
        "id": "xAEUqiDWPf-V"
      },
      "source": [
        "# reg ex for prices\n",
        "\n",
        "text = \"any machine with at least 6 GHz and 500 GB of disk space for less than $1000\"\n",
        "\n",
        "# try to reassign the text variable, below are several options. Can you explain the result? \n",
        "#text = \"any machine with at least 6 GHz and 500 GB of disk space for less than $1000.99.\"\n",
        "#text = \"$1000.99 is a great price.\"\n",
        "#text = \"boo$1000.99 is a great price.\"\n",
        "#text = \"-$1000.99 is a great price.\"\n",
        "#text = \"$12.99 is a great price.\"\n",
        "#text = \"$12345.99 is a great price.\"\n",
        "#text = \"$334.45 is a great price.\"\n",
        "\n",
        "# let us factor in a reasonable price: it cannot be less than\n",
        "# 100 (at LEAST three digits for dollars) and cannot be more than \n",
        "# 3999 (at MOST four digits for dollars) \n",
        "\n",
        "re.search(r'(^|\\W)\\$[1-9]\\d{2,3}(\\.[0-9][0-9])?\\b',text)"
      ],
      "execution_count": null,
      "outputs": []
    },
    {
      "cell_type": "markdown",
      "metadata": {
        "id": "iNL-VepvS73Q"
      },
      "source": [
        "## Try to solve the below exercises\n",
        "\n"
      ]
    },
    {
      "cell_type": "markdown",
      "metadata": {
        "id": "eDWOGiz-cRw6"
      },
      "source": [
        "### Exercise 1"
      ]
    },
    {
      "cell_type": "code",
      "metadata": {
        "id": "snKRfjzfcQr5"
      },
      "source": [
        "# Match a string that has an a followed by ZERO or more b's.\n",
        "# Output either the matched string of the message \"No match\"\n",
        "# Use the below strings for testing, the correspodning output is\n",
        "# provided in the comment\n",
        "\n",
        "inStr1 = 'a'      # a\n",
        "inStr2 = 'ab'     # ab\n",
        "inStr3 = 'abbbbb' # abbbbb\n",
        "inStr4 = 'bbbbb'  # \"No match\""
      ],
      "execution_count": null,
      "outputs": []
    },
    {
      "cell_type": "code",
      "metadata": {
        "id": "C6iVvq-LcX7x"
      },
      "source": [
        "testStrings = [inStr1, inStr2, inStr3, inStr4 ]\n",
        "# your solution here\n",
        "for i in testStrings: \n",
        "  if (re.search(r'ab+',i)):\n",
        "    print (\"Match found\", i)\n",
        "  else:\n",
        "    print (\"No match\")"
      ],
      "execution_count": null,
      "outputs": []
    },
    {
      "cell_type": "markdown",
      "metadata": {
        "id": "1IBRK3icdChN"
      },
      "source": [
        "### Exercise 2"
      ]
    },
    {
      "cell_type": "code",
      "metadata": {
        "id": "VW7NmcHQdHGx"
      },
      "source": [
        "# Match a string that has an a followed by ONE or more b's.\n",
        "# Output either the matched string of the message \"No match\"\n",
        "# Use the below strings for testing, the correspodning output is\n",
        "# provided in the comment\n",
        "\n",
        "inStr1 = 'a'      # \"No match\"\n",
        "inStr2 = 'ab'     # ab\n",
        "inStr3 = 'abbbbb' # abbbbb\n",
        "inStr4 = 'bbbbb'  # \"No match\""
      ],
      "execution_count": null,
      "outputs": []
    },
    {
      "cell_type": "code",
      "metadata": {
        "id": "FQIDanQ_dpcV"
      },
      "source": [
        "testStrings = [inStr1, inStr2, inStr3, inStr4 ]\n",
        "# your solution here\n",
        "for i in testStrings: \n",
        "  if (re.search(r'ab+',i)):\n",
        "    print (\"Match found\", i)\n",
        "  else:\n",
        "    print (\"No match\")"
      ],
      "execution_count": null,
      "outputs": []
    },
    {
      "cell_type": "code",
      "metadata": {
        "id": "xXoxV4ZsdPya"
      },
      "source": [
        "# your solution here\n",
        "re.search(r'(^|\\W)\\$[1-9]\\d{2,3}(\\.[0-9][0-9])?\\b',text)"
      ],
      "execution_count": null,
      "outputs": []
    },
    {
      "cell_type": "markdown",
      "metadata": {
        "id": "gNDMc8sddhi7"
      },
      "source": [
        "### Exercise 3"
      ]
    },
    {
      "cell_type": "code",
      "metadata": {
        "id": "tA6xe355dif5"
      },
      "source": [
        "# Match a string that STARTS with an a followed by ONE or more b's.\n",
        "# Output either the matched string of the message \"No match\"\n",
        "# Use the below strings for testing, the correspodning output is\n",
        "# provided in the comment.\n",
        "# Check for a special character: beginning of the string\n",
        "\n",
        "inStr1 = 'a'      # \"No match\"\n",
        "inStr2 = 'ab'     # ab\n",
        "inStr3 = 'cab'    # \"No match\"\n",
        "inStr4 = 'abbbbb' # abbbbb\n",
        "inStr5 = 'bbbbb'  # \"No match\"\n",
        "\n",
        "testStrings = [inStr1, inStr2, inStr3, inStr4, inStr5 ]\n"
      ],
      "execution_count": null,
      "outputs": []
    },
    {
      "cell_type": "code",
      "metadata": {
        "id": "cp4Eh2KEd_Mb"
      },
      "source": [
        "# your solution here\n",
        "for i in testStrings: \n",
        "  if (re.search(r'^ab+',i)):\n",
        "    print (\"Match found\", i)\n",
        "  else:\n",
        "    print (\"No match\")"
      ],
      "execution_count": null,
      "outputs": []
    },
    {
      "cell_type": "markdown",
      "metadata": {
        "id": "OT5eZBUZeZns"
      },
      "source": [
        "### Exercise 4"
      ]
    },
    {
      "cell_type": "code",
      "metadata": {
        "id": "YMaO4b61eep7"
      },
      "source": [
        "# find all sequences of one or more a followed by one or more b\n",
        "# output should be: \n",
        "# ab\n",
        "# aabb\n",
        "# aaabbb\n",
        "# ab\n",
        "\n",
        "inStr = \"abcaabbccaaabbbcccabc\""
      ],
      "execution_count": null,
      "outputs": []
    },
    {
      "cell_type": "code",
      "metadata": {
        "id": "PHi0G34At5q9"
      },
      "source": [
        "re.finditer(r'((a+)(b+))', inStr)"
      ],
      "execution_count": null,
      "outputs": []
    },
    {
      "cell_type": "code",
      "metadata": {
        "id": "5E1vApeJt7w2"
      },
      "source": [
        "re.findall(r'((a+)(b+))', inStr)"
      ],
      "execution_count": null,
      "outputs": []
    },
    {
      "cell_type": "code",
      "metadata": {
        "id": "fohqn4CEeDLV"
      },
      "source": [
        "matches = re.finditer(r'(a+b+)', inStr)\n",
        "for match in matches:\n",
        "    print(match.group(1))"
      ],
      "execution_count": null,
      "outputs": []
    },
    {
      "cell_type": "code",
      "metadata": {
        "id": "kQILMj41egyb"
      },
      "source": [
        "# your solution here"
      ],
      "execution_count": null,
      "outputs": []
    },
    {
      "cell_type": "markdown",
      "metadata": {
        "id": "O7mSShsnesVb"
      },
      "source": [
        "### Exercise 5"
      ]
    },
    {
      "cell_type": "code",
      "metadata": {
        "id": "etmXHBKyevmp"
      },
      "source": [
        "# find all sequences of one or more digits followed by the % sign\n",
        "# \n",
        "# output: \n",
        "# 75%\n",
        "# 15%\n",
        "inStr = \"\"\"In an election, candidate \n",
        "A got 75% of the total valid votes. \n",
        "If 15% of the total votes were declared \n",
        "invalid and the total numbers of votes is \n",
        "560000, find the number of valid vote polled in favour of candidate.\"\"\""
      ],
      "execution_count": null,
      "outputs": []
    },
    {
      "cell_type": "code",
      "metadata": {
        "id": "fGD_O1KYe3FC"
      },
      "source": [
        "# your solution here"
      ],
      "execution_count": null,
      "outputs": []
    },
    {
      "cell_type": "markdown",
      "metadata": {
        "id": "KMyvnmNNfWBL"
      },
      "source": [
        "### Exercise 6\n",
        "\n",
        "Write a Python function to check that a string is a two digit integer (positive) and no other characters (e.g., string of length 2 consists out of two digits, the first digit in not zero).\n"
      ]
    },
    {
      "cell_type": "code",
      "metadata": {
        "id": "VF0aWLn6fqAJ"
      },
      "source": [
        "# your solution here"
      ],
      "execution_count": null,
      "outputs": []
    },
    {
      "cell_type": "markdown",
      "metadata": {
        "id": "7dmYrGyqfmOp"
      },
      "source": [
        "### Exercise 7\n",
        "\n",
        "Write a Python function to check that a string contains only a certain set of characters (e.g., a-z, A-Z and 0-9). How can you update the regular expression, if you allow for the use of underscore in the sting? "
      ]
    },
    {
      "cell_type": "code",
      "metadata": {
        "id": "T68JaeYPfrry"
      },
      "source": [
        "# your solution here\n",
        "def is_allowed_specific_char(string):\n",
        "    # your code here"
      ],
      "execution_count": null,
      "outputs": []
    },
    {
      "cell_type": "code",
      "metadata": {
        "id": "AnLLf1Ndf1UV"
      },
      "source": [
        "print(is_allowed_specific_char(\"ABCDEFabcdef123450\")) # True\n",
        "print(is_allowed_specific_char(\"*&%@#!}{\"))            # False\n",
        "print(is_allowed_specific_char(\"4ABCDEFabcdef123450\")) # True"
      ],
      "execution_count": null,
      "outputs": []
    },
    {
      "cell_type": "markdown",
      "metadata": {
        "id": "3PP2CW_Ff7WT"
      },
      "source": [
        "### Exercise 7, version 2\n",
        "\n",
        "Write a Python function to check that a string contains **only** a certain set of characters (e.g., a-z, A-Z,0-9,_), and starts with a letter."
      ]
    },
    {
      "cell_type": "code",
      "metadata": {
        "id": "_SiDgST5gCYz"
      },
      "source": [
        "def is_allowed_specific_char2(string):\n",
        "    # your code here"
      ],
      "execution_count": null,
      "outputs": []
    },
    {
      "cell_type": "code",
      "metadata": {
        "id": "ejQNBClagFJr"
      },
      "source": [
        "print(is_allowed_specific_char(\"ABCDEFabcdef123450\")) # True\n",
        "print(is_allowed_specific_char(\"*&%@#!}{\"))         # False\n",
        "print(is_allowed_specific_char(\"4ABCDEFabcdef123450\")) # False\n",
        "print(is_allowed_specific_char(\"w\"))                  # True\n",
        "print(is_allowed_specific_char(\"abcde\"))              # True"
      ],
      "execution_count": null,
      "outputs": []
    }
  ]
}